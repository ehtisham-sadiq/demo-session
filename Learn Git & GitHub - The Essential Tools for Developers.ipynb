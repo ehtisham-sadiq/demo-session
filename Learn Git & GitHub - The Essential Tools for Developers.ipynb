{
 "cells": [
  {
   "cell_type": "markdown",
   "id": "4abded4b",
   "metadata": {},
   "source": [
    "<h1 id=\"git-and-github\" align=\"center\">Learn Git & GitHub - The Essential Tools for Developers</h1>"
   ]
  },
  {
   "cell_type": "markdown",
   "id": "0ceb7e08",
   "metadata": {},
   "source": [
    "## Outline of this notebook\n",
    "\n",
    "1. **[What is Version Control System and Its Types?](#what-is-version-control-system-and-its-types)**\n",
    "    - [Centralized Version Control System](#centralized-version-control-system)\n",
    "    - [Distributed Version Control System](#distributed-version-control-system)\n",
    "    \n",
    "2. **[Overview and Working of Git](#overview-and-working-of-git)**\n",
    "    - [What is Git?](#what-is-git)\n",
    "    - [Downloading and Installation of Git](#downloading-and-installation-of-git)\n",
    "    - [Git: GUI-Clients](#git:-gui-clients)\n",
    "    - [Git Configuration](#git-configuration)\n",
    "    - [Basic Workflow of Git](#basic-workflow-of-git)\n",
    "    - [Initialization and Life Cycle of file in Git](#initialization-and-life-cycle-of-file-in-git)\n",
    "    - [Commit file and View commit log](#commit-file-and-view-commit-log)\n",
    "    - [Edit , Delete a File in Git Repository](#edit--delete-a-file-in-git-repository)\n",
    "    - [Rename a File in Git Repository](#rename-a-file-in-git-repository)\n",
    "    - [Ignore a File in Git Repository](#ignore-a-file-in-git-repository)\n",
    "    - [Moving to a previous commit](#moving-to-a-previous-commit)\n",
    "3. **[Branching and Merging](#branching-and-merging)**\n",
    "    - [Overview of Git Branching](#overview-of-git-branching)\n",
    "    - [Merging Branches](#merging-branches)\n",
    "    - [Handling Merge Conflicts](#handling-merge-conflicts)\n",
    "    \n",
    "4. **[Web Portals & Cloud Hosting Services for git](#web-portals-&-cloud-hosting-services-for-git)**\n",
    "    - [Concept of Remote Repository](#concept-of-remote-repository)\n",
    "    - [Hosting Services for Git Repository](#hosting-services-for-git-repository)\n",
    "    - [Creating a remote repository on GitHub](#creating-a-remote-repository-on-github)\n",
    "    - [Clone a Remote Repository](#clone-a-remote-respository)\n",
    "    - [Push Local Repo to Remote Repo](#push-local-repo-to-remote-repo)\n",
    "    - [Git Fetch vs Git Pull](#git-fetch-vs-git-pull)\n",
    "    - [Clone vs Fork](#clone-vs-fork)\n",
    "        - [Collaborating with Open Source Projects](#collaborating-with-open-source-projects)\n",
    "5. **[Overview of GitHub Gists](#overview-of-github-gists)**\n",
    "6. **[Deploy a static site using GitHub Pages](#deploy-a-static-site-using-github-pages)**\n",
    "7. **[Overview of GitHub Actions](#overview-of-github-actions)**"
   ]
  },
  {
   "cell_type": "markdown",
   "id": "0464a608",
   "metadata": {},
   "source": [
    "## About Me\n",
    "\n",
    "\n",
    "<img src=\"images/ehtisham1.png\" align=\"left\" width=\"450\" height=\"550\">\n",
    "<img src=\"images/ehtisham2.png\" align=\"right\" width=\"450\" height=\"550\">"
   ]
  },
  {
   "cell_type": "code",
   "execution_count": null,
   "id": "c686579a",
   "metadata": {},
   "outputs": [],
   "source": []
  },
  {
   "cell_type": "code",
   "execution_count": null,
   "id": "4b31b57c",
   "metadata": {},
   "outputs": [],
   "source": []
  },
  {
   "cell_type": "code",
   "execution_count": null,
   "id": "291a19b6",
   "metadata": {},
   "outputs": [],
   "source": []
  },
  {
   "cell_type": "markdown",
   "id": "f6d88e96",
   "metadata": {},
   "source": [
    "## 1. What is Version Control System and Its Types?\n",
    "\n",
    "<br>\n",
    "<img src=\"images/version_control.jpg\" align=\"right\" width=\"400px\" height=\"350px\">\n",
    "<img src=\"images/version_control.jpeg\" align=\"left\" width=\"400px\" height=\"350px\">"
   ]
  },
  {
   "cell_type": "markdown",
   "id": "572ba461",
   "metadata": {},
   "source": [
    "\n",
    "<div class=\"alert alert-success\" style=\"margin: 20px;\">\n",
    "  <p align=\"left\" style=\"font-weight: bold;\">A version control system (VCS) is a software tool that helps developers track changes to files over time. It essentially acts like a time machine for your code, allowing you to:</p>\n",
    "  <ul>\n",
    "    <li>See past versions of files</li>\n",
    "    <li>Collaborate effectively</li>\n",
    "    <li>Track project history</li>\n",
    "  </ul>\n",
    "</div>\n",
    "\n",
    "\n",
    "<img src=\"images/version_control_1.jpg\" width=\"300px\" height=\"300px\">"
   ]
  },
  {
   "cell_type": "markdown",
   "id": "f6e44dad",
   "metadata": {},
   "source": [
    "### 1.1 Types of Version Control Systems\n",
    "\n",
    "<img src=\"images/types.png\" align=\"center\">\n",
    "\n",
    "| Feature       | Centralized (CVCS)           | Distributed (DVCS)                  |\n",
    "|---------------|------------------------------|-------------------------------------|\n",
    "| Local copy    | Partial (working copy)       | Complete repository                 |\n",
    "| Central server| Required                     | Optional (remote)                   |\n",
    "| Offline work  | Limited                      | Full functionality                  |\n",
    "| Branching     | More complex                 | Simpler and more powerful           |\n",
    "| Popularity    | Less common                  | More dominant                       |\n",
    "\n",
    "\n",
    "<img src=\"images/memes_on_types.jpeg\" align=\"center\" width=\"300px\" height=\"300px\">"
   ]
  },
  {
   "cell_type": "code",
   "execution_count": null,
   "id": "5b8269c2",
   "metadata": {},
   "outputs": [],
   "source": []
  },
  {
   "cell_type": "markdown",
   "id": "3bf90b2d",
   "metadata": {},
   "source": [
    "## 2. Overview and Working of Git\n",
    "\n",
    "<p align=\"center\"><div class=\"alert alert-success\" style=\"margin: 20px\"><b> Git is a distributed version control system (DVCS) widely used for tracking changes in source code during software development. It allows multiple developers to collaborate on projects by providing features such as branching, merging, and version history tracking. Git provides a decentralized workflow, enabling developers to work offline and push their changes to a central repository when ready. </b> </div></p>\n",
    "\n",
    "\n",
    "### 2.1 Downloads and Installation\n",
    "\n",
    "<img src=\"images/downloading.png\" width=\"700\" height=\"700\" align=\"center\">\n",
    "\n",
    "- **For Linux**: \n",
    "    - `https://git-scm.com/downloads`\n",
    "    \n",
    "- **For Windows**:\n",
    "    - `https://git-for-windows.github.io/`"
   ]
  },
  {
   "cell_type": "code",
   "execution_count": null,
   "id": "ddfe9ff8",
   "metadata": {},
   "outputs": [],
   "source": []
  },
  {
   "cell_type": "markdown",
   "id": "da6daeaa",
   "metadata": {},
   "source": [
    "### 2.2 GIT: GUI-Clients\n",
    "<img src=\"images/git_gui.png\" align=\"center\" height=\"600\" width=\"600\">"
   ]
  },
  {
   "cell_type": "code",
   "execution_count": null,
   "id": "0d7fa1ed",
   "metadata": {},
   "outputs": [],
   "source": []
  },
  {
   "cell_type": "markdown",
   "id": "0b71c335",
   "metadata": {},
   "source": [
    "### 2.3 Git Configuration\n",
    "\n",
    "- **User Configuration**\n",
    "    - `git config –-global user.name \"Ehtisham Sadiq\"`\n",
    "    - `git config –-global user.email \"ehtisham.selfwork@gmail.com\"`\n",
    "    - `git config --global --list`\n",
    "    - `cat ~/.gitconfig`\n",
    "    \n",
    "- **System Configuration**\n",
    "    - `/etc/gitconfig`\n",
    "    \n",
    "- **Project Configuration**\n",
    "    - `<proj>/.git/config`"
   ]
  },
  {
   "cell_type": "code",
   "execution_count": null,
   "id": "da33955a",
   "metadata": {},
   "outputs": [],
   "source": []
  },
  {
   "cell_type": "markdown",
   "id": "9a867bfc",
   "metadata": {},
   "source": [
    "### 2.4 Life Cycle of Git\n",
    "\n",
    "<img src=\"images/1.png\">"
   ]
  },
  {
   "cell_type": "markdown",
   "id": "b9d1c38a",
   "metadata": {},
   "source": [
    "### 2.5 **git initialization**\n",
    "\n",
    "- `git init`\n",
    "\n",
    "> After configuration, next step is to initialize repository. It will make a hidden folder named `.git` in this directory. This is your local versioning database that track all the files/ inside the root directory of your project folder."
   ]
  },
  {
   "cell_type": "code",
   "execution_count": null,
   "id": "6c990178",
   "metadata": {},
   "outputs": [],
   "source": []
  },
  {
   "cell_type": "markdown",
   "id": "def666cb",
   "metadata": {},
   "source": [
    "- `git status`\n",
    "- `git add <filename>`\n",
    "\n",
    "> This will tell which files are tracked and which are un-tracked.\n",
    "\n",
    "- **Tracked files:** All the files which have been added at least once, or the files that were there in the last snapshot\n",
    "    - Unmodified\n",
    "    - Modified\n",
    "    - Staged\n",
    "    \n",
    "- **Untracked files:** All the files in the working directory that have never been part of repository and are not even in the staging area."
   ]
  },
  {
   "cell_type": "code",
   "execution_count": null,
   "id": "e191087d",
   "metadata": {},
   "outputs": [],
   "source": []
  },
  {
   "cell_type": "markdown",
   "id": "b9a0900b",
   "metadata": {},
   "source": [
    "### 2.6 **Commit file & view commit log**\n",
    "\n",
    "- `git commit -m \"commit message\"`\n",
    "> After adding all files to staging area now they are ready to commit.\n",
    "\n",
    "- `git log`\n",
    "> You can check log of commits and by whom it is committed. \n",
    "\n",
    "- **Patterns of commit**\n",
    "    - `commit <sha of commit o/p as 40 hex digits>`\n",
    "    - `Author: username <email>`\n",
    "    - `Date: <date and time>`\n",
    "    - `<commit message>`"
   ]
  },
  {
   "cell_type": "code",
   "execution_count": null,
   "id": "c2d73f8b",
   "metadata": {},
   "outputs": [],
   "source": []
  },
  {
   "cell_type": "markdown",
   "id": "49d40f6a",
   "metadata": {},
   "source": [
    "### Bonus: Commit objects and Head pointer in git\n",
    "\n",
    "Suppose we have made three commits in our project, that means there are three change sets. Each commit object refers to a change set.\n",
    "\n",
    "<img src=\"images/head_pointer.png\" align=\"center\">"
   ]
  },
  {
   "cell_type": "code",
   "execution_count": null,
   "id": "5fe103a0",
   "metadata": {},
   "outputs": [],
   "source": []
  },
  {
   "cell_type": "markdown",
   "id": "4606dec6",
   "metadata": {},
   "source": [
    "### 2.7 Edit, Delete a File in git Repo\n",
    "\n",
    "- **Edit File**\n",
    "    - We have already created a file `README`, added in staging index and then committed it to the repo. Make changes in the file and check status.\n",
    "    - You again need to add and commit the file\n",
    "    - Check status\n",
    "    \n",
    "- **Delete File**\n",
    "<img src=\"images/delete_file.png\" align=\"center\">"
   ]
  },
  {
   "cell_type": "code",
   "execution_count": null,
   "id": "2309dd2c",
   "metadata": {},
   "outputs": [],
   "source": []
  },
  {
   "cell_type": "markdown",
   "id": "da39010c",
   "metadata": {},
   "source": [
    "### 2.8 Rename a File in git Repo\n",
    "\n",
    "**Rename a file**\n",
    "\n",
    "<img src=\"images/rename_file.png\" align=\"center\" height=\"800px\" width=\"800px\">"
   ]
  },
  {
   "cell_type": "code",
   "execution_count": null,
   "id": "9c56a838",
   "metadata": {},
   "outputs": [],
   "source": []
  },
  {
   "cell_type": "markdown",
   "id": "b49c9ead",
   "metadata": {},
   "source": [
    "### 2.9 Ignoring Files in git\n",
    "\n",
    "- The `.gitignore` file is a special text file in your Git repository that instructs Git which files and folders to ignore. Its purpose is to streamline your version control by:\n",
    "\n",
    "    - Preventing unnecessary files from being tracked\n",
    "    - Enforcing consistency across environments\n",
    "    - Improving performance\n",
    "    \n"
   ]
  },
  {
   "cell_type": "code",
   "execution_count": null,
   "id": "f82c7f19",
   "metadata": {},
   "outputs": [],
   "source": [
    "# .env"
   ]
  },
  {
   "cell_type": "markdown",
   "id": "e0603beb",
   "metadata": {},
   "source": [
    "### 2.10 Moving to a Previous Commit\n",
    "<br>\n",
    "\n",
    "- **Undoing `git add filename`**\n",
    "\n",
    "    - `git reset HEAD f1.txt`: This command removes f1.txt from the staging area but keeps the changes made to the file in your working directory.\n",
    "    - `git rm --cached f1.txt`: This command also removes f1.txt from the staging area, but it does not keep the changes made to the file.\n",
    "<br>\n",
    "\n",
    "- **Undoing git commit -m `new file added`**\n",
    "\n",
    "    - Once you've committed the changes, there isn't a direct way to undo the entire commit. However, you can achieve a similar effect using:\n",
    "        - `git stash`: This command creates a new commit that reverses the changes introduced in the most recent commit (identified by HEAD^).\n",
    "        \n",
    "<img src=\"images/revert_commit.jpeg\" align=\"center\">"
   ]
  },
  {
   "cell_type": "code",
   "execution_count": null,
   "id": "817a04c0",
   "metadata": {},
   "outputs": [],
   "source": []
  },
  {
   "cell_type": "code",
   "execution_count": null,
   "id": "b339fbc0",
   "metadata": {},
   "outputs": [],
   "source": []
  },
  {
   "cell_type": "markdown",
   "id": "7add543e",
   "metadata": {},
   "source": [
    "## 3. Branching and Merging\n",
    "\n",
    "### **3.1 Overview of Branching**\n",
    "\n",
    "<img src=\"images/git_branch.png\" align=\"center\" height=\"800px\" width=\"800px\">\n",
    "\n",
    "<br>\n",
    "<br>\n",
    "<br>\n",
    "<br>\n",
    "\n",
    "\n",
    "<img src=\"images/branching2.png\" align=\"center\" height=\"800px\" width=\"800px\">\n",
    "\n",
    "\n",
    "<br>\n",
    "<br>\n",
    "<br>\n",
    "<br>\n",
    "\n",
    "\n",
    "<img src=\"images/branching_3.png\" align=\"center\" height=\"800px\" width=\"800px\">\n",
    "\n",
    "\n",
    "<br>\n",
    "<br>\n",
    "<br>\n",
    "<br>\n",
    "\n",
    "<img src=\"images/branching_4.png\" align=\"center\" height=\"800px\" width=\"800px\">\n",
    "\n",
    "\n",
    "\n",
    "<br>\n",
    "<br>\n",
    "<br>\n",
    "<br>\n",
    "\n",
    "**Before Merge:**\n",
    "\n",
    "<img src=\"images/before_merge.png\" align=\"center\" height=\"500px\" width=\"500px\">\n",
    "\n",
    "\n",
    "<br>\n",
    "<br>\n",
    "\n",
    "**After Merge:**\n",
    "\n",
    "<img src=\"images/after_merge.png\" align=\"center\" height=\"600px\" width=\"600px\">"
   ]
  },
  {
   "cell_type": "code",
   "execution_count": null,
   "id": "11c647fe",
   "metadata": {},
   "outputs": [],
   "source": []
  },
  {
   "cell_type": "markdown",
   "id": "5b9f26c1",
   "metadata": {},
   "source": [
    "### 3.2 Handling Merge Conflicts\n",
    "\n",
    "Suppose there are two branches master and branch1, both have a `file f1.txt`, which is of-course similar in both. A developer on master branch edit `line#25` of file1.txt and do a commit. Another developer on branch1 edit `line#50` of file1.txt and do a commit.\n",
    "\n",
    "<img src=\"images/conflicts.png\"  height=\"600\" width=\"600\">\n",
    "\n",
    "\n",
    "Now if you merge, it will be a success, because both have made changes to same file, but to different lines. However, if both the developers have made changes to same line or set of lines a conflict will occur, which git cannot handle and it will give a message that auto-merging failed. In case of a merge conflict we have three choices to resolve the conflict\n",
    "\n",
    "\n",
    "- **Abort merge:** `$ git merge –abort`\n",
    "\n",
    "- **Make changes Manually:** Perform changes manually in some editor, add, commit, and finally perform merge\n",
    "- **Use merge tools:** You can use for this purpose like araxis, diffuse, kdiff3, xxdiff,\n",
    "diffmerge: `$ git mergetool --tool=diffuse`\n"
   ]
  },
  {
   "cell_type": "markdown",
   "id": "499b80bc",
   "metadata": {},
   "source": [
    "#### Commands\n",
    "\n",
    "- **To Create a New Branch:** `$ git branch [<new-branch>]`\n",
    "- **To Switch to another Branch:** `$ git checkout new-branch`\n",
    "- **To Rename a Branch:** `$ git branch -m <old> <new>`\n",
    "- **To Delete a Merged Branch:** `$ git branch -d <branch-name>`\n",
    "- **To Delete an Un-merged Branch:** `$ git branch -D <branch-name>` \n",
    "- **To Compare two Branches Branch:** `$ git diff <branch1> <branch2>`"
   ]
  },
  {
   "cell_type": "code",
   "execution_count": null,
   "id": "b77d5114",
   "metadata": {},
   "outputs": [],
   "source": []
  },
  {
   "cell_type": "markdown",
   "id": "46f6dda9",
   "metadata": {},
   "source": [
    "## 4. Web Portals & Cloud Hosting Services for git\n",
    "\n",
    "### 4.1 Concept of Remote Repository\n",
    "\n",
    "<img src=\"images/2.png\" height=\"700px\" width=\"700px\" align=\"center\">\n",
    "\n",
    "**Operations in Working Directory:**\n",
    "- File creation\n",
    "- Modification\n",
    "- Deletion/Rename\n",
    "- Ignore files"
   ]
  },
  {
   "cell_type": "markdown",
   "id": "3e8075f6",
   "metadata": {},
   "source": [
    "### 4.2 Hosting Services for git Repositories\n",
    "\n",
    "The way there are different web hosting services available on the Internet cloud, similarly there are hosting services available for repositories of distributed versioning systems as well\n",
    "\n",
    "<img src=\"images/hosting_services.png\" align=\"center\" height=\"800px\" width=\"800px\">"
   ]
  },
  {
   "cell_type": "markdown",
   "id": "c7f5be58",
   "metadata": {},
   "source": [
    "### 4.3 Creating a Remote Repository on GitHub\n",
    "\n",
    "- **Creating a Personal Account on GitHub**\n",
    "- **Login into your GitHub Account**\n",
    "- **Creating a Remote Repository on GitHub**\n",
    "- **Public & Private Repositories**\n",
    "\n",
    "<img src=\"images/public_repo.png\" width=\"600\" height=\"600\" align=\"center\">\n",
    "\n",
    "- **Invite Collaborators**\n",
    "\n",
    "<img src=\"images/invite_collaborators.png\" width=\"600\" height=\"600\" align=\"center\">"
   ]
  },
  {
   "cell_type": "markdown",
   "id": "9aec11d1",
   "metadata": {},
   "source": [
    "### 4.4 Cloning Remote Repo to Local Repo\n",
    "\n",
    "**We can use the `git clone` command to copy the entire codebase of a project from a remote repository\n",
    "and set it up as a local repository on our machine.**\n",
    "\n",
    "<img src=\"images/3.png\" height=\"750px\" width=\"750px\" align=\"center\">\n",
    "\n",
    "\n",
    "- **Step 1: Go to the existing repo (public)**\n",
    "- **Step 2: Click the Code drop down button**\n",
    "- **Step 3: Copy the link**\n",
    "- **Step 4:Open a terminal on your machine and paste the link in front of `git clone`**"
   ]
  },
  {
   "cell_type": "code",
   "execution_count": null,
   "id": "7de7035f",
   "metadata": {},
   "outputs": [],
   "source": []
  },
  {
   "cell_type": "markdown",
   "id": "a1fb227c",
   "metadata": {},
   "source": [
    "### 4.5 Push local Repo to Remote Repo\n",
    "\n",
    "**When you create a remote repository on GitHub, it will initially be empty. You will need a way to get your local repository to the remote repository on GitHub.**\n",
    "\n",
    "<img src=\"images/4.png\" align=\"center\">\n",
    "\n",
    "- **Step 1: Copy URL of remote repo from gitHub**\n",
    "- **Step 2: Connect local repository with remote repository**\n",
    "- **Step 3: Upload local code and its revision history to the remote repo**\n",
    "- **Step 4: Verify that local repo has been pushed on Remote Repo**"
   ]
  },
  {
   "cell_type": "markdown",
   "id": "e5a61e3a",
   "metadata": {},
   "source": [
    "### 4.6 Git Fetch\n",
    "\n",
    "**`git fetch` tells your local git to retrieve the latest meta-data info from the the remote repo, i.e., it does not make any changes to the working directory in the local repo**\n",
    "\n",
    "<img src=\"images/5.png\" align=\"center\">\n"
   ]
  },
  {
   "cell_type": "markdown",
   "id": "0e0a8eb4",
   "metadata": {},
   "source": [
    "### 4.7 Git Pull\n",
    "\n",
    "**`git pull` performs two operations git fetch git merge So after a git pull your working directory in the local repo will also be synchronized with the remote repo**\n",
    "\n",
    "\n",
    "<img src=\"images/6.png\" align=\"center\">\n"
   ]
  },
  {
   "cell_type": "markdown",
   "id": "76d0d878",
   "metadata": {},
   "source": [
    "#### 4.8 Fork a Repository from GitHub\n",
    "\n",
    "- **Forking means creating a copy of complete repo from some one else’s GitHub account on your GitHub account. You can do this to collaborate on a open source project, or use the existing state of the project as a starting point for your own project**\n",
    "    - On GitHub navigate to someone’s repository that you want to fork, and click the Fork button, then check the repository availability on your GitHub account.\n",
    "    - Clone this repo on your local machine, make a new branch, fix a bug, add/enhance a functionality, and then push it back to your own remote repo\n",
    "    - Finally click pull request to open a new pull request to the actual project owner.\n",
    "    \n",
    "    \n",
    "> **Collaborating with Open Source Projects**"
   ]
  },
  {
   "cell_type": "code",
   "execution_count": null,
   "id": "b44a2c29",
   "metadata": {},
   "outputs": [],
   "source": []
  },
  {
   "cell_type": "markdown",
   "id": "c7af4100",
   "metadata": {},
   "source": [
    "## 5. GitHub Gists:\n",
    "\n",
    "- Think of Gists as code snippets playgrounds.\n",
    "- Quickly share short pieces of code, notes, or configurations with others.\n",
    "- Easy way to collaborate on small code samples or document specific functionalities.\n",
    "- Public Gists are searchable by anyone, while private Gists are only visible to invited collaborators.\n",
    "\n"
   ]
  },
  {
   "cell_type": "code",
   "execution_count": null,
   "id": "4be31cb5",
   "metadata": {},
   "outputs": [],
   "source": []
  },
  {
   "cell_type": "markdown",
   "id": "64fde17f",
   "metadata": {},
   "source": [
    "## 6. Deploy a static site using GitHub Pages:\n",
    "\n",
    "- Imagine creating a website using HTML, CSS, and JavaScript.\n",
    "- GitHub Pages lets you turn that code into a fully functional website for free!\n",
    "- Simply push your website code to a specific Git repository, and GitHub automatically deploys it.\n",
    "- Perfect for personal portfolios, documentation sites, or simple web applications.\n"
   ]
  },
  {
   "cell_type": "code",
   "execution_count": null,
   "id": "a2de4b8e",
   "metadata": {},
   "outputs": [],
   "source": []
  },
  {
   "cell_type": "markdown",
   "id": "d574dae3",
   "metadata": {},
   "source": [
    "## 7. GitHub Actions:\n",
    "\n",
    "- Think of Actions as automated helpers for your code.\n",
    "- Set up workflows to automate repetitive tasks like running tests, building your code, or deploying your website.\n",
    "- No need to do things manually – Actions can be triggered by events like code pushes or scheduled times.\n",
    "- Makes development smoother and more efficient, especially for complex projects.\n",
    "\n",
    "<img src=\"images/workflow.png\">"
   ]
  },
  {
   "cell_type": "code",
   "execution_count": null,
   "id": "5a228c61",
   "metadata": {},
   "outputs": [],
   "source": []
  },
  {
   "cell_type": "code",
   "execution_count": null,
   "id": "6b661385",
   "metadata": {},
   "outputs": [],
   "source": []
  },
  {
   "cell_type": "code",
   "execution_count": null,
   "id": "68a61e2e",
   "metadata": {},
   "outputs": [],
   "source": []
  },
  {
   "cell_type": "code",
   "execution_count": null,
   "id": "48524baa",
   "metadata": {},
   "outputs": [],
   "source": []
  },
  {
   "cell_type": "code",
   "execution_count": null,
   "id": "882f70c2",
   "metadata": {},
   "outputs": [],
   "source": []
  },
  {
   "cell_type": "code",
   "execution_count": null,
   "id": "b7dc52df",
   "metadata": {},
   "outputs": [],
   "source": []
  },
  {
   "cell_type": "code",
   "execution_count": null,
   "id": "43db04aa",
   "metadata": {},
   "outputs": [],
   "source": []
  },
  {
   "cell_type": "code",
   "execution_count": null,
   "id": "93e151f1",
   "metadata": {},
   "outputs": [],
   "source": []
  },
  {
   "cell_type": "code",
   "execution_count": null,
   "id": "6da7669c",
   "metadata": {},
   "outputs": [],
   "source": []
  },
  {
   "cell_type": "code",
   "execution_count": null,
   "id": "6d21c1d1",
   "metadata": {},
   "outputs": [],
   "source": []
  },
  {
   "cell_type": "code",
   "execution_count": null,
   "id": "32fa4f55",
   "metadata": {},
   "outputs": [],
   "source": []
  },
  {
   "cell_type": "code",
   "execution_count": null,
   "id": "c11d7617",
   "metadata": {},
   "outputs": [],
   "source": []
  },
  {
   "cell_type": "code",
   "execution_count": null,
   "id": "6110da00",
   "metadata": {},
   "outputs": [],
   "source": []
  },
  {
   "cell_type": "code",
   "execution_count": null,
   "id": "40bcfc6d",
   "metadata": {},
   "outputs": [],
   "source": []
  },
  {
   "cell_type": "code",
   "execution_count": null,
   "id": "f6e7e2a7",
   "metadata": {},
   "outputs": [],
   "source": []
  },
  {
   "cell_type": "code",
   "execution_count": null,
   "id": "a03c7da9",
   "metadata": {},
   "outputs": [],
   "source": []
  },
  {
   "cell_type": "code",
   "execution_count": null,
   "id": "5b2dcfcc",
   "metadata": {},
   "outputs": [],
   "source": []
  },
  {
   "cell_type": "code",
   "execution_count": null,
   "id": "d83d39c5",
   "metadata": {},
   "outputs": [],
   "source": []
  },
  {
   "cell_type": "code",
   "execution_count": null,
   "id": "15f9be28",
   "metadata": {},
   "outputs": [],
   "source": []
  },
  {
   "cell_type": "code",
   "execution_count": null,
   "id": "10c7d479",
   "metadata": {},
   "outputs": [],
   "source": []
  },
  {
   "cell_type": "code",
   "execution_count": null,
   "id": "f3981352",
   "metadata": {},
   "outputs": [],
   "source": []
  },
  {
   "cell_type": "code",
   "execution_count": null,
   "id": "7953f60f",
   "metadata": {},
   "outputs": [],
   "source": []
  },
  {
   "cell_type": "code",
   "execution_count": null,
   "id": "14eb0a0e",
   "metadata": {},
   "outputs": [],
   "source": []
  },
  {
   "cell_type": "code",
   "execution_count": null,
   "id": "6eededa1",
   "metadata": {},
   "outputs": [],
   "source": []
  },
  {
   "cell_type": "code",
   "execution_count": null,
   "id": "30382b87",
   "metadata": {},
   "outputs": [],
   "source": []
  },
  {
   "cell_type": "code",
   "execution_count": null,
   "id": "805e0745",
   "metadata": {},
   "outputs": [],
   "source": []
  },
  {
   "cell_type": "code",
   "execution_count": null,
   "id": "91801fdb",
   "metadata": {},
   "outputs": [],
   "source": []
  },
  {
   "cell_type": "code",
   "execution_count": null,
   "id": "5c0cd39b",
   "metadata": {},
   "outputs": [],
   "source": []
  },
  {
   "cell_type": "code",
   "execution_count": null,
   "id": "53753fa0",
   "metadata": {},
   "outputs": [],
   "source": []
  },
  {
   "cell_type": "code",
   "execution_count": null,
   "id": "5b2b92f5",
   "metadata": {},
   "outputs": [],
   "source": []
  },
  {
   "cell_type": "code",
   "execution_count": null,
   "id": "7153bd8b",
   "metadata": {},
   "outputs": [],
   "source": []
  },
  {
   "cell_type": "code",
   "execution_count": null,
   "id": "87d5cbba",
   "metadata": {},
   "outputs": [],
   "source": []
  },
  {
   "cell_type": "code",
   "execution_count": null,
   "id": "ee3aac69",
   "metadata": {},
   "outputs": [],
   "source": []
  },
  {
   "cell_type": "code",
   "execution_count": null,
   "id": "bb5f7be4",
   "metadata": {},
   "outputs": [],
   "source": []
  },
  {
   "cell_type": "code",
   "execution_count": null,
   "id": "e723d5d1",
   "metadata": {},
   "outputs": [],
   "source": []
  },
  {
   "cell_type": "code",
   "execution_count": null,
   "id": "193a55b2",
   "metadata": {},
   "outputs": [],
   "source": []
  },
  {
   "cell_type": "code",
   "execution_count": null,
   "id": "dbfb7c01",
   "metadata": {},
   "outputs": [],
   "source": []
  },
  {
   "cell_type": "code",
   "execution_count": null,
   "id": "f8d39c45",
   "metadata": {},
   "outputs": [],
   "source": []
  },
  {
   "cell_type": "code",
   "execution_count": null,
   "id": "edbad2f0",
   "metadata": {},
   "outputs": [],
   "source": []
  },
  {
   "cell_type": "code",
   "execution_count": null,
   "id": "45bed3fd",
   "metadata": {},
   "outputs": [],
   "source": []
  },
  {
   "cell_type": "code",
   "execution_count": null,
   "id": "e32a11a8",
   "metadata": {},
   "outputs": [],
   "source": []
  },
  {
   "cell_type": "code",
   "execution_count": null,
   "id": "d1b65f7f",
   "metadata": {},
   "outputs": [],
   "source": []
  },
  {
   "cell_type": "code",
   "execution_count": null,
   "id": "6b373629",
   "metadata": {},
   "outputs": [],
   "source": []
  },
  {
   "cell_type": "code",
   "execution_count": null,
   "id": "eba8b5db",
   "metadata": {},
   "outputs": [],
   "source": []
  },
  {
   "cell_type": "code",
   "execution_count": null,
   "id": "b2ec1c91",
   "metadata": {},
   "outputs": [],
   "source": []
  },
  {
   "cell_type": "code",
   "execution_count": null,
   "id": "5b220446",
   "metadata": {},
   "outputs": [],
   "source": []
  },
  {
   "cell_type": "code",
   "execution_count": null,
   "id": "fd12c686",
   "metadata": {},
   "outputs": [],
   "source": []
  },
  {
   "cell_type": "code",
   "execution_count": null,
   "id": "8053d3f1",
   "metadata": {},
   "outputs": [],
   "source": []
  },
  {
   "cell_type": "code",
   "execution_count": null,
   "id": "dca66265",
   "metadata": {},
   "outputs": [],
   "source": []
  },
  {
   "cell_type": "code",
   "execution_count": null,
   "id": "0f90d0a3",
   "metadata": {},
   "outputs": [],
   "source": []
  },
  {
   "cell_type": "code",
   "execution_count": null,
   "id": "97676eed",
   "metadata": {},
   "outputs": [],
   "source": []
  },
  {
   "cell_type": "code",
   "execution_count": null,
   "id": "7a3a6724",
   "metadata": {},
   "outputs": [],
   "source": []
  },
  {
   "cell_type": "code",
   "execution_count": null,
   "id": "dd6ba099",
   "metadata": {},
   "outputs": [],
   "source": []
  },
  {
   "cell_type": "code",
   "execution_count": null,
   "id": "9dff7653",
   "metadata": {},
   "outputs": [],
   "source": []
  },
  {
   "cell_type": "code",
   "execution_count": null,
   "id": "911b8d0b",
   "metadata": {},
   "outputs": [],
   "source": []
  },
  {
   "cell_type": "code",
   "execution_count": null,
   "id": "c286aec1",
   "metadata": {},
   "outputs": [],
   "source": []
  },
  {
   "cell_type": "code",
   "execution_count": null,
   "id": "b74cde9c",
   "metadata": {},
   "outputs": [],
   "source": []
  },
  {
   "cell_type": "code",
   "execution_count": null,
   "id": "95bb214d",
   "metadata": {},
   "outputs": [],
   "source": []
  },
  {
   "cell_type": "code",
   "execution_count": null,
   "id": "4dbbd1bb",
   "metadata": {},
   "outputs": [],
   "source": []
  },
  {
   "cell_type": "code",
   "execution_count": null,
   "id": "d6e93ed0",
   "metadata": {},
   "outputs": [],
   "source": []
  },
  {
   "cell_type": "code",
   "execution_count": null,
   "id": "e21aee79",
   "metadata": {},
   "outputs": [],
   "source": []
  },
  {
   "cell_type": "code",
   "execution_count": 1,
   "id": "5ddb6512",
   "metadata": {},
   "outputs": [
    {
     "data": {
      "text/html": [
       "\n",
       "    <style>\n",
       "        body {\n",
       "            background-color: #f2fff2;\n",
       "        }\n",
       "        h1 {\n",
       "            text-align: center;\n",
       "            font-weight: bold;\n",
       "            font-size: 36px;\n",
       "            color: #4295F4;\n",
       "            text-decoration: underline;\n",
       "            padding-top: 15px;\n",
       "        }\n",
       "        \n",
       "        h2 {\n",
       "            text-align: left;\n",
       "            font-weight: bold;\n",
       "            font-size: 30px;\n",
       "            color: #4A000A;\n",
       "            text-decoration: italic;\n",
       "            padding-top: 10px;\n",
       "        }\n",
       "        \n",
       "        h3 {\n",
       "            text-align: left;\n",
       "            font-weight: bold;\n",
       "            font-size: 30px;\n",
       "            color: #f0081e;\n",
       "            text-decoration: italic;\n",
       "            padding-top: 5px;\n",
       "        }\n",
       "        h4 {\n",
       "            text-align: left;\n",
       "            font-weight: bold;\n",
       "            font-size: 20px;\n",
       "            color: #f9981e;\n",
       "            text-decoration: italic;\n",
       "            padding-top: 5px;\n",
       "        }\n",
       "\n",
       "        \n",
       "        p {\n",
       "            text-align: center;\n",
       "            font-size: 12 px;\n",
       "            color: #0B9923;\n",
       "        }\n",
       "    </style>\n",
       "\n",
       "<h1>Hello</h1>\n",
       "<p>Hello World</p>\n",
       "<h2> Hello</h2>\n",
       "<h3> World </h3>\n"
      ],
      "text/plain": [
       "<IPython.core.display.HTML object>"
      ]
     },
     "execution_count": 1,
     "metadata": {},
     "output_type": "execute_result"
    }
   ],
   "source": [
    "from IPython.core.display import HTML\n",
    "\n",
    "style = \"\"\"\n",
    "    <style>\n",
    "        body {\n",
    "            background-color: #f2fff2;\n",
    "        }\n",
    "        h1 {\n",
    "            text-align: center;\n",
    "            font-weight: bold;\n",
    "            font-size: 36px;\n",
    "            color: #4295F4;\n",
    "            text-decoration: underline;\n",
    "            padding-top: 15px;\n",
    "        }\n",
    "        \n",
    "        h2 {\n",
    "            text-align: left;\n",
    "            font-weight: bold;\n",
    "            font-size: 30px;\n",
    "            color: #4A000A;\n",
    "            text-decoration: italic;\n",
    "            padding-top: 10px;\n",
    "        }\n",
    "        \n",
    "        h3 {\n",
    "            text-align: left;\n",
    "            font-weight: bold;\n",
    "            font-size: 30px;\n",
    "            color: #f0081e;\n",
    "            text-decoration: italic;\n",
    "            padding-top: 5px;\n",
    "        }\n",
    "        h4 {\n",
    "            text-align: left;\n",
    "            font-weight: bold;\n",
    "            font-size: 20px;\n",
    "            color: #f9981e;\n",
    "            text-decoration: italic;\n",
    "            padding-top: 5px;\n",
    "        }\n",
    "\n",
    "        \n",
    "        p {\n",
    "            text-align: center;\n",
    "            font-size: 12 px;\n",
    "            color: #0B9923;\n",
    "        }\n",
    "    </style>\n",
    "\"\"\"\n",
    "\n",
    "html_content = \"\"\"\n",
    "<h1>Hello</h1>\n",
    "<p>Hello World</p>\n",
    "<h2> Hello</h2>\n",
    "<h3> World </h3>\n",
    "\"\"\"\n",
    "\n",
    "HTML(style + html_content)"
   ]
  },
  {
   "cell_type": "code",
   "execution_count": null,
   "id": "b351cf60",
   "metadata": {},
   "outputs": [],
   "source": []
  }
 ],
 "metadata": {
  "kernelspec": {
   "display_name": "Python 3 (ipykernel)",
   "language": "python",
   "name": "python3"
  },
  "language_info": {
   "codemirror_mode": {
    "name": "ipython",
    "version": 3
   },
   "file_extension": ".py",
   "mimetype": "text/x-python",
   "name": "python",
   "nbconvert_exporter": "python",
   "pygments_lexer": "ipython3",
   "version": "3.8.10"
  }
 },
 "nbformat": 4,
 "nbformat_minor": 5
}
